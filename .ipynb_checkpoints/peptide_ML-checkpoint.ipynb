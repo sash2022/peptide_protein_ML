{
 "cells": [
  {
   "cell_type": "code",
   "execution_count": null,
   "id": "d3078275-70a6-4f55-bf24-52f7cb40a2aa",
   "metadata": {},
   "outputs": [],
   "source": [
    "import torch\n",
    "from sklearn import metrics\n",
    "from sklearn.metrics import classification_report, confusion_matrix, f1_score, recall_score, precision_score, auc"
   ]
  },
  {
   "cell_type": "code",
   "execution_count": null,
   "id": "f7afc840-cb77-4899-9cf6-eabba72f7066",
   "metadata": {},
   "outputs": [],
   "source": [
    "import torch\n",
    "import torch_geometric\n",
    "print(\"PyTorch version:\", torch.__version__)\n",
    "print(\"PyG version:\", torch_geometric.__version__)\n",
    "print(\"CUDA available:\", torch.cuda.is_available())"
   ]
  },
  {
   "cell_type": "markdown",
   "id": "5cac0ae3-6d7e-4f4f-b488-3f3624eedbce",
   "metadata": {},
   "source": [
    "this pytorch installed here is CUDA compatible (cuda 11.8)but we do not use gpu for this small samples. so only use cpu version of pytorch. In feture to use gpu :Since your HPC has cuda/12.0, you can install PyTorch compiled for CUDA 12.0 Then install PyG wheels for CUDA 12.0: And before running code, load the right CUDA module: "
   ]
  },
  {
   "cell_type": "code",
   "execution_count": 1,
   "id": "89576823-173a-4763-831d-37a8b71c990c",
   "metadata": {},
   "outputs": [
    {
     "data": {
      "text/html": [
       "<div>\n",
       "<style scoped>\n",
       "    .dataframe tbody tr th:only-of-type {\n",
       "        vertical-align: middle;\n",
       "    }\n",
       "\n",
       "    .dataframe tbody tr th {\n",
       "        vertical-align: top;\n",
       "    }\n",
       "\n",
       "    .dataframe thead th {\n",
       "        text-align: right;\n",
       "    }\n",
       "</style>\n",
       "<table border=\"1\" class=\"dataframe\">\n",
       "  <thead>\n",
       "    <tr style=\"text-align: right;\">\n",
       "      <th></th>\n",
       "      <th>peptide</th>\n",
       "      <th>target</th>\n",
       "      <th>ic50_nM</th>\n",
       "      <th>label</th>\n",
       "    </tr>\n",
       "  </thead>\n",
       "  <tbody>\n",
       "    <tr>\n",
       "      <th>0</th>\n",
       "      <td>LLFGYPVYV</td>\n",
       "      <td>HLA-A*02:01</td>\n",
       "      <td>50.0</td>\n",
       "      <td>1.0</td>\n",
       "    </tr>\n",
       "    <tr>\n",
       "      <th>1</th>\n",
       "      <td>SIINFEKL</td>\n",
       "      <td>HLA-A*02:01</td>\n",
       "      <td>2000.0</td>\n",
       "      <td>0.0</td>\n",
       "    </tr>\n",
       "    <tr>\n",
       "      <th>2</th>\n",
       "      <td>GILGFVFTL</td>\n",
       "      <td>HLA-A*02:01</td>\n",
       "      <td>100.0</td>\n",
       "      <td>1.0</td>\n",
       "    </tr>\n",
       "    <tr>\n",
       "      <th>3</th>\n",
       "      <td>NLVPMVATV</td>\n",
       "      <td>HLA-A*02:01</td>\n",
       "      <td>400.0</td>\n",
       "      <td>1.0</td>\n",
       "    </tr>\n",
       "    <tr>\n",
       "      <th>4</th>\n",
       "      <td>GLCTLVAML</td>\n",
       "      <td>HLA-A*02:01</td>\n",
       "      <td>2500.0</td>\n",
       "      <td>0.0</td>\n",
       "    </tr>\n",
       "    <tr>\n",
       "      <th>5</th>\n",
       "      <td>RMFPNAPYL</td>\n",
       "      <td>HLA-A*02:01</td>\n",
       "      <td>80.0</td>\n",
       "      <td>1.0</td>\n",
       "    </tr>\n",
       "    <tr>\n",
       "      <th>6</th>\n",
       "      <td>FLPSDFFPSV</td>\n",
       "      <td>HLA-A*02:01</td>\n",
       "      <td>150.0</td>\n",
       "      <td>1.0</td>\n",
       "    </tr>\n",
       "    <tr>\n",
       "      <th>7</th>\n",
       "      <td>KLVVGAVGV</td>\n",
       "      <td>HLA-A*02:01</td>\n",
       "      <td>1200.0</td>\n",
       "      <td>0.0</td>\n",
       "    </tr>\n",
       "    <tr>\n",
       "      <th>8</th>\n",
       "      <td>~                                             ...</td>\n",
       "      <td>NaN</td>\n",
       "      <td>NaN</td>\n",
       "      <td>NaN</td>\n",
       "    </tr>\n",
       "    <tr>\n",
       "      <th>9</th>\n",
       "      <td>~</td>\n",
       "      <td>NaN</td>\n",
       "      <td>NaN</td>\n",
       "      <td>NaN</td>\n",
       "    </tr>\n",
       "  </tbody>\n",
       "</table>\n",
       "</div>"
      ],
      "text/plain": [
       "                                             peptide       target  ic50_nM  \\\n",
       "0                                          LLFGYPVYV  HLA-A*02:01     50.0   \n",
       "1                                           SIINFEKL  HLA-A*02:01   2000.0   \n",
       "2                                          GILGFVFTL  HLA-A*02:01    100.0   \n",
       "3                                          NLVPMVATV  HLA-A*02:01    400.0   \n",
       "4                                          GLCTLVAML  HLA-A*02:01   2500.0   \n",
       "5                                          RMFPNAPYL  HLA-A*02:01     80.0   \n",
       "6                                         FLPSDFFPSV  HLA-A*02:01    150.0   \n",
       "7                                          KLVVGAVGV  HLA-A*02:01   1200.0   \n",
       "8  ~                                             ...          NaN      NaN   \n",
       "9                                         ~                   NaN      NaN   \n",
       "\n",
       "   label  \n",
       "0    1.0  \n",
       "1    0.0  \n",
       "2    1.0  \n",
       "3    1.0  \n",
       "4    0.0  \n",
       "5    1.0  \n",
       "6    1.0  \n",
       "7    0.0  \n",
       "8    NaN  \n",
       "9    NaN  "
      ]
     },
     "execution_count": 1,
     "metadata": {},
     "output_type": "execute_result"
    }
   ],
   "source": [
    "import pandas as pd\n",
    "\n",
    "#load toy dataset\n",
    "df = pd.read_csv(\"dataset\")\n",
    "df"
   ]
  },
  {
   "cell_type": "markdown",
   "id": "f3fa0c32-d192-45da-b6ec-1d0fbf860b92",
   "metadata": {},
   "source": [
    "### Convert Peptides to Molecules"
   ]
  },
  {
   "cell_type": "markdown",
   "id": "1559e910-a1ae-4d84-949e-da859bccc75d",
   "metadata": {},
   "source": [
    "need kernel that is related to environment that has RDKIT installed"
   ]
  },
  {
   "cell_type": "code",
   "execution_count": null,
   "id": "1c35820f-bf13-443a-b881-9653043e0aed",
   "metadata": {},
   "outputs": [],
   "source": [
    "from rdkit import Chem\n",
    "from rdkit.Chem import AllChem\n",
    "\n",
    "# Convert peptide sequence to SMILES\n",
    "def peptide_to_mol(seq):\n",
    "    try:\n",
    "        mol = Chem.MolFromFASTA(seq)  # RDKit parses peptide sequence\n",
    "        Chem.AddHs(mol)\n",
    "        AllChem.EmbedMolecule(mol, AllChem.ETKDG())\n",
    "        return mol\n",
    "    except:\n",
    "        return None\n",
    "\n",
    "df[\"mol\"] = df[\"peptide\"].apply(peptide_to_mol)\n"
   ]
  },
  {
   "cell_type": "markdown",
   "id": "bcbe6633-0761-42a5-b670-632b70990ea4",
   "metadata": {},
   "source": [
    "### Build Graph Representation"
   ]
  },
  {
   "cell_type": "code",
   "execution_count": null,
   "id": "b2f8aa53-9404-49cc-b183-755b8c236000",
   "metadata": {},
   "outputs": [],
   "source": [
    "need kernel that is related to environment that has pyg installed.\n",
    "Or I can install rdkit and pyg in one env and run these two part of code in a same kernel. thankGOD!"
   ]
  },
  {
   "cell_type": "code",
   "execution_count": null,
   "id": "9e3e8dee-1201-414e-9449-a1690506a51f",
   "metadata": {},
   "outputs": [],
   "source": [
    "import torch\n",
    "from torch_geometric.data import Data\n",
    "\n",
    "def mol_to_graph(mol, label):\n",
    "    \n",
    "    # Atom features\n",
    "    atom_features = []\n",
    "    for atom in mol.GetAtoms():\n",
    "        atom_features.append([\n",
    "            atom.GetAtomicNum(),\n",
    "            atom.GetDegree(),\n",
    "            atom.GetFormalCharge(),\n",
    "            int(atom.GetIsAromatic())\n",
    "        ])\n",
    "    x = torch.tensor(atom_features, dtype=torch.float)\n",
    "\n",
    "    # Bonds (edges)\n",
    "    edge_index = []\n",
    "    edge_attr = []\n",
    "    for bond in mol.GetBonds():\n",
    "        i, j = bond.GetBeginAtomIdx(), bond.GetEndAtomIdx()\n",
    "        edge_index.append((i, j))\n",
    "        edge_index.append((j, i))\n",
    "        edge_attr.append([bond.GetBondTypeAsDouble()])\n",
    "        edge_attr.append([bond.GetBondTypeAsDouble()])\n",
    "    edge_index = torch.tensor(edge_index, dtype=torch.long).t().contiguous()\n",
    "    edge_attr = torch.tensor(edge_attr, dtype=torch.float)\n",
    "\n",
    "    y = torch.tensor([label], dtype=torch.long)  # classification label\n",
    "\n",
    "    return Data(x=x, edge_index=edge_index, edge_attr=edge_attr, y=y)\n",
    "\n",
    "graph_list = []\n",
    "for i, row in df.iterrows():\n",
    "    if row[\"mol\"]:\n",
    "        graph_list.append(mol_to_graph(row[\"mol\"], row[\"label\"]))\n",
    "\n",
    "print(graph_list[0])\n"
   ]
  }
 ],
 "metadata": {
  "kernelspec": {
   "display_name": "Python (<GNN_env>)",
   "language": "python",
   "name": "gnn_env"
  },
  "language_info": {
   "codemirror_mode": {
    "name": "ipython",
    "version": 3
   },
   "file_extension": ".py",
   "mimetype": "text/x-python",
   "name": "python",
   "nbconvert_exporter": "python",
   "pygments_lexer": "ipython3",
   "version": "3.11.13"
  }
 },
 "nbformat": 4,
 "nbformat_minor": 5
}
